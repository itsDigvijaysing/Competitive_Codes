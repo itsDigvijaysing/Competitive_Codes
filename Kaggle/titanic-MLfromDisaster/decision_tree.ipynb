{
 "cells": [
  {
   "cell_type": "markdown",
   "metadata": {},
   "source": [
    "So i am using Random forest algorithm with 100 trees estimater.\n",
    "I dropped the following columns while doing model testing 'PassengerId', 'Name', 'Fare','Cabin','Ticket' & I am transforming my object data to numeric values, with filling null values of Age with average and Embarked value to most appearing value."
   ]
  },
  {
   "cell_type": "code",
   "execution_count": null,
   "metadata": {},
   "outputs": [],
   "source": []
  },
  {
   "cell_type": "code",
   "execution_count": 15,
   "metadata": {},
   "outputs": [
    {
     "name": "stderr",
     "output_type": "stream",
     "text": [
      "/home/rajput/miniconda3/envs/pybox_env/lib/python3.8/site-packages/cuml/internals/api_decorators.py:188: UserWarning: To use pickling first train using float32 data to fit the estimator\n",
      "  ret = func(*args, **kwargs)\n"
     ]
    },
    {
     "name": "stdout",
     "output_type": "stream",
     "text": [
      "Accuracy: 0.94\n"
     ]
    }
   ],
   "source": [
    "import cupy as cp\n",
    "from cuml.ensemble import RandomForestClassifier \n",
    "from cuml.model_selection import train_test_split\n",
    "from sklearn.metrics import accuracy_score\n",
    "import pandas as pd\n",
    "from sklearn.preprocessing import LabelEncoder\n",
    "\n",
    "train_data = pd.read_csv('titanic/train.csv')\n",
    "x_test = pd.read_csv('titanic/test.csv')\n",
    "y_test = pd.read_csv('titanic/gender_submission.csv')\n",
    "\n",
    "x_train = train_data.iloc[:,2:]\n",
    "y_train = train_data.iloc[:,:2]\n",
    "\n",
    "# print(x_train.columns)\n",
    "# print(x_test.columns)\n",
    "\n",
    "# print(y_train.columns)\n",
    "# print(y_test.columns)\n",
    "\n",
    "\n",
    "x_train= x_train.drop(columns=['Name', 'Fare','Cabin','Ticket'])\n",
    "x_test= x_test.drop(columns=['PassengerId', 'Name', 'Fare','Cabin','Ticket'])\n",
    "\n",
    "y_train=y_train.drop(columns=['PassengerId'])\n",
    "y_test=y_test.drop(columns=['PassengerId'])\n",
    "\n",
    "y_test = y_test['Survived']\n",
    "y_train = y_train['Survived']\n",
    "\n",
    "le = LabelEncoder()\n",
    "for col in x_train.select_dtypes(include=['object']).columns:\n",
    "    x_train[col] = le.fit_transform(x_train[col])\n",
    "    x_test[col] = le.transform(x_test[col])\n",
    "\n",
    "x_train['Age'].fillna(x_train['Age'].median(), inplace=True)\n",
    "x_test['Age'].fillna(x_test['Age'].median(), inplace=True)\n",
    "\n",
    "# x_train['Cabin'].fillna('N', inplace=True)\n",
    "# x_test['Cabin'].fillna('N', inplace=True)\n",
    "\n",
    "x_train['Embarked'].fillna(x_train['Embarked'].mode()[0], inplace=True)\n",
    "x_test['Embarked'].fillna(x_test['Embarked'].mode()[0], inplace=True)\n",
    "\n",
    "\n",
    "# print(x_train.head())\n",
    "# print(y_train.head())\n",
    "\n",
    "\n",
    "# Create a decision tree classifier\n",
    "clf = RandomForestClassifier(n_estimators=100)\n",
    "\n",
    "# Fit the model on the training data\n",
    "clf.fit(x_train, y_train)\n",
    "\n",
    "# Predict on the test set\n",
    "y_pred = clf.predict(x_test)\n",
    "\n",
    "# Create a DataFrame with PassengerId and Survived columns\n",
    "submission = pd.DataFrame({\n",
    "    'PassengerId': x_test.index + 892,\n",
    "    'Survived': y_pred.astype(int)\n",
    "})\n",
    "\n",
    "# Save the DataFrame to a CSV file\n",
    "submission.to_csv('kaggle_submission.csv', index=False)\n",
    "\n",
    "# Convert predictions to CPU for accuracy calculation\n",
    "y_pred_cpu = cp.asnumpy(y_pred)\n",
    "\n",
    "# Calculate and print accuracy\n",
    "accuracy = accuracy_score(cp.asnumpy(y_test), y_pred_cpu)\n",
    "print(f'Accuracy: {accuracy:.2f}')\n",
    "\n",
    "\n"
   ]
  }
 ],
 "metadata": {
  "kernelspec": {
   "display_name": "pybox_env",
   "language": "python",
   "name": "python3"
  },
  "language_info": {
   "codemirror_mode": {
    "name": "ipython",
    "version": 3
   },
   "file_extension": ".py",
   "mimetype": "text/x-python",
   "name": "python",
   "nbconvert_exporter": "python",
   "pygments_lexer": "ipython3",
   "version": "3.8.18"
  }
 },
 "nbformat": 4,
 "nbformat_minor": 2
}
